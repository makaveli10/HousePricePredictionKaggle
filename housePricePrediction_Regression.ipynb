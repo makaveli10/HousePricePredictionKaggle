{
  "cells": [
    {
      "metadata": {
        "_uuid": "8f2839f25d086af736a60e9eeb907d3b93b6e0e5",
        "_cell_guid": "b1076dfc-b9ad-4769-8c92-a6c4dae69d19",
        "trusted": true
      },
      "cell_type": "code",
      "source": "# This Python 3 environment comes with many helpful analytics libraries installed\n# It is defined by the kaggle/python docker image: https://github.com/kaggle/docker-python\n# For example, here's several helpful packages to load in \n\nimport numpy as np # linear algebra\nimport pandas as pd # data processing, CSV file I/O (e.g. pd.read_csv)\n\n# Input data files are available in the \"../input/\" directory.\n# For example, running this (by clicking run or pressing Shift+Enter) will list the files in the input directory\n\nimport os\nprint(os.listdir(\"../input\"))\n\n# Any results you write to the current directory are saved as output.",
      "execution_count": null,
      "outputs": []
    },
    {
      "metadata": {
        "_cell_guid": "79c7e3d0-c299-4dcb-8224-4455121ee9b0",
        "_uuid": "d629ff2d2480ee46fbb7e2d37f6b5fab8052498a",
        "trusted": true
      },
      "cell_type": "code",
      "source": "import matplotlib.pyplot as plt \nimport seaborn as sns\nimport pandas as pd\nimport numpy as np\nfrom __future__ import absolute_import, division, print_function\n\nimport pathlib\nimport seaborn as sns\n\nimport tensorflow as tf\nfrom tensorflow import keras\nfrom tensorflow.keras import layers\n\nprint(tf.__version__)",
      "execution_count": null,
      "outputs": []
    },
    {
      "metadata": {
        "trusted": true,
        "_uuid": "e2ab2e4515e9b2f667b2591a48246147bb2de9ea"
      },
      "cell_type": "code",
      "source": "training_data = pd.read_csv(\"../input/train.csv\")\ntest_data = pd.read_csv(\"../input/test.csv\")",
      "execution_count": null,
      "outputs": []
    },
    {
      "metadata": {
        "trusted": true,
        "_uuid": "f2230f6fd63f8094b1588a0a2153e322d59f4e61"
      },
      "cell_type": "code",
      "source": "training_data['SalePrice'].describe()",
      "execution_count": null,
      "outputs": []
    },
    {
      "metadata": {
        "trusted": true,
        "_uuid": "85f6ea42cb4268911660daeefb0421c2b87a3345"
      },
      "cell_type": "code",
      "source": "training_data['SalePrice'].skew()",
      "execution_count": null,
      "outputs": []
    },
    {
      "metadata": {
        "trusted": true,
        "_uuid": "9b8f6a7e797ae994248cb39128fca411856b03d4"
      },
      "cell_type": "code",
      "source": "training_data.info()",
      "execution_count": null,
      "outputs": []
    },
    {
      "metadata": {
        "trusted": true,
        "_uuid": "6fa1ac5139361b9b000c948c23248e7ec557a831"
      },
      "cell_type": "code",
      "source": "training_data['Skewed_SP'] = np.log(training_data['SalePrice']+1)",
      "execution_count": null,
      "outputs": []
    },
    {
      "metadata": {
        "trusted": true,
        "_uuid": "040e89863cd0dd44754b90800919d793726abb7c"
      },
      "cell_type": "code",
      "source": "training_data['Skewed_SP'].skew()\nplt.hist(training_data['Skewed_SP'], color='blue')\nplt.show()",
      "execution_count": null,
      "outputs": []
    },
    {
      "metadata": {
        "trusted": true,
        "_uuid": "a4d0ea5cf51e056e4b8a0d7e71e156340cfff3a4"
      },
      "cell_type": "code",
      "source": "sns.factorplot('MSSubClass', 'Skewed_SP', data=training_data,kind='bar',size=5,aspect=3)\nfig, (axis1) = plt.subplots(1,1,figsize=(10,3))\nsns.countplot('MSSubClass', data=training_data)\ntraining_data['MSSubClass'].value_counts()",
      "execution_count": null,
      "outputs": []
    },
    {
      "metadata": {
        "trusted": true,
        "_uuid": "6fc8d8ee55ca24b1a12c16bb36f027fbf4311561"
      },
      "cell_type": "code",
      "source": "sns.factorplot('MSZoning', 'Skewed_SP', data=training_data,kind='bar',size=3,aspect=3)\nfig, (axis1) = plt.subplots(1,1,figsize=(10,3))\nsns.countplot(x='MSZoning', data=training_data, ax=axis1)\ntraining_data['MSZoning'].value_counts()",
      "execution_count": null,
      "outputs": []
    },
    {
      "metadata": {
        "trusted": true,
        "_uuid": "d892a7647ad526d6c9a7554ee3253c2dd6b5ad26"
      },
      "cell_type": "code",
      "source": "sns.factorplot(x='MSZoning', y='SalePrice', col='MSSubClass', data=training_data, kind='bar', col_wrap=4, aspect=0.8)",
      "execution_count": null,
      "outputs": []
    },
    {
      "metadata": {
        "trusted": true,
        "_uuid": "497ee5d98bb24670f4484309b7de8394a2f56a3b"
      },
      "cell_type": "code",
      "source": "numerical_features = training_data.select_dtypes(include=[np.number])\nnumerical_features.dtypes",
      "execution_count": null,
      "outputs": []
    },
    {
      "metadata": {
        "trusted": true,
        "_uuid": "9683f1835c99402949d4b7b9ce4ea18e06dc5dcf"
      },
      "cell_type": "code",
      "source": "corr = numerical_features.corr()\n#print (corr['SalePrice'].sort_values(ascending=False)[:5], '\\n')\n#print (corr['SalePrice'].sort_values(ascending=False)[-5:])\nprint (corr['SalePrice'].sort_values(ascending=False)[:], '\\n')",
      "execution_count": null,
      "outputs": []
    },
    {
      "metadata": {
        "trusted": true,
        "_uuid": "b3f2520552b10fffa126ac7fbe2d94ad2634e6b7"
      },
      "cell_type": "code",
      "source": "#Creating a pivot table \nquality_pivot = training_data.pivot_table(index='OverallQual',values='SalePrice', aggfunc=np.median)\nquality_pivot",
      "execution_count": null,
      "outputs": []
    },
    {
      "metadata": {
        "trusted": true,
        "_uuid": "c13eda352e1d550b1f8047892a63c5fd13ffac8f"
      },
      "cell_type": "code",
      "source": "quality_pivot.plot(kind='bar',color='green')\nplt.xlabel('Overall Quality')\nplt.ylabel('Median')\nplt.xticks(rotation=0)\nplt.show()",
      "execution_count": null,
      "outputs": []
    },
    {
      "metadata": {
        "trusted": true,
        "_uuid": "af47778f4dbd1e7d68cb28d9230cb4a0cb4307b4"
      },
      "cell_type": "code",
      "source": "sns.regplot(x='GrLivArea',y='Skewed_SP',data=training_data)",
      "execution_count": null,
      "outputs": []
    },
    {
      "metadata": {
        "trusted": true,
        "_uuid": "6013832e9c599ff052dd681c238dabdd701a978f"
      },
      "cell_type": "code",
      "source": "#Removing outliers\ntraining_data = training_data[training_data['GrLivArea'] < 4000]\nsns.regplot(x='GrLivArea',y='Skewed_SP',data=training_data)",
      "execution_count": null,
      "outputs": []
    },
    {
      "metadata": {
        "trusted": true,
        "_uuid": "19a4ba2f0de321f3cb06659c78e0ba34da025c3e"
      },
      "cell_type": "code",
      "source": "sns.regplot(x='GarageArea', y='Skewed_SP', data = training_data)",
      "execution_count": null,
      "outputs": []
    },
    {
      "metadata": {
        "trusted": true,
        "_uuid": "de89d4346e28302eda2e0089122359ef4c792503"
      },
      "cell_type": "code",
      "source": "#removing outliers\ntraining_data = training_data[training_data['GarageArea']<1200]\nsns.regplot(x='GarageArea', y='Skewed_SP', data = training_data)",
      "execution_count": null,
      "outputs": []
    },
    {
      "metadata": {
        "trusted": true,
        "_uuid": "0c88fc991a6f319c754a9976692f105903bc68f4"
      },
      "cell_type": "code",
      "source": "null_values = pd.DataFrame(training_data.isnull().sum().sort_values(ascending=False)[:25])\nnull_values.columns = ['Null Value Count']\nnull_values.index.name = 'Feature'\nnull_values",
      "execution_count": null,
      "outputs": []
    },
    {
      "metadata": {
        "trusted": true,
        "_uuid": "f20135ce4d966b0157726c7c42ad8cfff72bf448"
      },
      "cell_type": "code",
      "source": "categ_features = training_data.select_dtypes(exclude=[np.number])\ncateg_features.describe(include='all')",
      "execution_count": null,
      "outputs": []
    },
    {
      "metadata": {
        "trusted": true,
        "_uuid": "ec0bfbd0dc72ad8ab168fdd91b65fdddd30995e2"
      },
      "cell_type": "code",
      "source": "g = sns.factorplot(x='Condition1', y='Skewed_SP', col='Condition2', data=training_data, kind='bar', col_wrap=4, aspect=0.8)\ng.set_xticklabels(rotation=90)",
      "execution_count": null,
      "outputs": []
    },
    {
      "metadata": {
        "trusted": true,
        "_uuid": "39af94e23355dc133b5bc618518eb3cacfeb93fa"
      },
      "cell_type": "code",
      "source": "g = sns.factorplot(x='SaleCondition', y='Skewed_SP', col='SaleType', data=training_data, kind='bar', col_wrap=4, aspect=0.8)\ng.set_xticklabels(rotation=90)",
      "execution_count": null,
      "outputs": []
    },
    {
      "metadata": {
        "trusted": true,
        "_uuid": "66df4c7369847050b0816274a8e37d1509de70c8"
      },
      "cell_type": "code",
      "source": "#Convert categorical variable into dummy/indicator variables\ntraining_data['enc_street'] = pd.get_dummies(training_data.Street, drop_first=True)\ntest_data['enc_street'] = pd.get_dummies(training_data.Street, drop_first=True)",
      "execution_count": null,
      "outputs": []
    },
    {
      "metadata": {
        "trusted": true,
        "_uuid": "e411d5b33ceab786ad3e03472154441792e0881b"
      },
      "cell_type": "code",
      "source": "#Feature Engineering\ncondition_pivot = training_data.pivot_table(index='SaleCondition',\n                                    values='SalePrice', aggfunc=np.median)\ncondition_pivot.plot(kind='bar', color='blue')\nplt.xlabel('Sale Condition')\nplt.ylabel('Median Sale Price')\nplt.xticks(rotation=0)\nplt.show()\n",
      "execution_count": null,
      "outputs": []
    },
    {
      "metadata": {
        "trusted": true,
        "_uuid": "9cec55c2d33c56ea707088e63bc304aa1b88815f"
      },
      "cell_type": "code",
      "source": "def encode(x): return 1 if x=='Partial' else 0\ntraining_data['enc_condition'] = training_data.SaleCondition.apply(encode)\ntest_data['enc_condition'] = test_data.SaleCondition.apply(encode)",
      "execution_count": null,
      "outputs": []
    },
    {
      "metadata": {
        "trusted": true,
        "_uuid": "88bce48ed2865c31a3427a644afad42f651fc852"
      },
      "cell_type": "code",
      "source": "condition_pivot = training_data.pivot_table(index='enc_condition', values='SalePrice',\n                                            aggfunc=np.median)\ncondition_pivot.plot(kind='bar', color='blue')\nplt.xlabel('Encoded Sale Condition')\nplt.ylabel('Median Sale Price')\nplt.xticks(rotation=0)\nplt.show()",
      "execution_count": null,
      "outputs": []
    },
    {
      "metadata": {
        "trusted": true,
        "_uuid": "45c903aee766c293675729249bfaf89264774f62"
      },
      "cell_type": "code",
      "source": "data = training_data.select_dtypes(include=[np.number]).interpolate().dropna()",
      "execution_count": null,
      "outputs": []
    },
    {
      "metadata": {
        "trusted": true,
        "_uuid": "52efa5b9de0b9446a2209b923acf00f1b191970e"
      },
      "cell_type": "code",
      "source": "sum(data.isnull().sum() != 0)",
      "execution_count": null,
      "outputs": []
    },
    {
      "metadata": {
        "trusted": true,
        "_uuid": "3310c0a875a1925e1819fedeb1855f519836e5f2"
      },
      "cell_type": "code",
      "source": "y = np.log(training_data.SalePrice)\nX = data.drop(['SalePrice','Skewed_SP','Id'], axis=1)",
      "execution_count": null,
      "outputs": []
    },
    {
      "metadata": {
        "trusted": true,
        "_uuid": "1a4eb6eeff11f06b09d6390f395e37ec3667cec2"
      },
      "cell_type": "code",
      "source": "\nfrom sklearn.model_selection import train_test_split\nX_train, X_test, y_train, y_test = train_test_split(\n                                    X, y, random_state=42, test_size=.33)",
      "execution_count": null,
      "outputs": []
    },
    {
      "metadata": {
        "trusted": true,
        "_uuid": "70669b766c60a717263fe49dd8bb8b2956f5682b"
      },
      "cell_type": "code",
      "source": "from sklearn import linear_model\nfrom sklearn import ensemble\n\n#lr =  ensemble.RandomForestRegressor(n_estimators = 100, oob_score = True, n_jobs = -1,random_state =50,max_features = \"sqrt\", min_samples_leaf = 50)\n#lr = linear_model.LinearRegression()\nlr = ensemble.GradientBoostingRegressor()\n#lr = linear_model.TheilSenRegressor()\n#lr = linear_model.RANSACRegressor(random_state=50)",
      "execution_count": null,
      "outputs": []
    },
    {
      "metadata": {
        "trusted": true,
        "_uuid": "20930fcaa3ce2b0519d24e9872c623da250c2b67"
      },
      "cell_type": "code",
      "source": "model = lr.fit(X_train, y_train)\n",
      "execution_count": null,
      "outputs": []
    },
    {
      "metadata": {
        "trusted": true,
        "_uuid": "b59edb17ea799eee8568ef00a9f8bbbc3f31823f"
      },
      "cell_type": "code",
      "source": "model.score(X_test, y_test)",
      "execution_count": null,
      "outputs": []
    },
    {
      "metadata": {
        "trusted": true,
        "_uuid": "1b307047762af60458bfc6d34213a1bac93c6378"
      },
      "cell_type": "code",
      "source": "predictions = model.predict(X_test)",
      "execution_count": null,
      "outputs": []
    },
    {
      "metadata": {
        "trusted": true,
        "_uuid": "0dba8861ce5ba792890c73dd742c40ebf78c2209"
      },
      "cell_type": "code",
      "source": "from sklearn.metrics import mean_squared_error\nprint ('RMSE is: \\n', mean_squared_error(y_test, predictions))\n",
      "execution_count": null,
      "outputs": []
    },
    {
      "metadata": {
        "trusted": true,
        "_uuid": "013c2925cdba2b371b8318974a724bb4658ecd58"
      },
      "cell_type": "code",
      "source": "actual_values = y_test\nplt.scatter(predictions, actual_values, alpha=.75,\n            color='b') #alpha helps to show overlapping data\nplt.xlabel('Predicted Price')\nplt.ylabel('Actual Price')\nplt.title('Linear Regression Model')\n#pltrandom_state=None.show()",
      "execution_count": null,
      "outputs": []
    },
    {
      "metadata": {
        "trusted": true,
        "_uuid": "f3a2420340333adf38ad9d1f169a4b970041e984"
      },
      "cell_type": "code",
      "source": "\nfor i in range (-2, 3):\n    alpha = 10**i\n    rm = linear_model.Ridge(alpha=alpha)\n    ridge_model = rm.fit(X_train, y_train)\n    preds_ridge = ridge_model.predict(X_test)\n    \n    plt.scatter(preds_ridge, actual_values, alpha=.75, color='b')\n    plt.xlabel('Predicted Price')\n    plt.ylabel('Actual Price')\n    plt.title('Ridge Regularization with alpha = {}'.format(alpha))\n    overlay = 'R^2 is: {}\\nRMSE is: {}'.format(\n                    ridge_model.score(X_test, y_test),\n                    mean_squared_error(y_test, preds_ridge))\n    plt.annotate(s=overlay,xy=(12.1,10.6),size='x-large')\n    plt.show()",
      "execution_count": null,
      "outputs": []
    },
    {
      "metadata": {
        "trusted": true,
        "_uuid": "c1e3cce159135d26f80a9eecd0b2be4daefb99d8"
      },
      "cell_type": "code",
      "source": "submission = pd.DataFrame()\nsubmission['Id'] = test_data.Id",
      "execution_count": null,
      "outputs": []
    },
    {
      "metadata": {
        "trusted": true,
        "_uuid": "8e18de9c3e220cb00706b23927d9f8a7474c873a"
      },
      "cell_type": "code",
      "source": "feats = test_data.select_dtypes(\n        include=[np.number]).drop('Id',axis=1).interpolate()",
      "execution_count": null,
      "outputs": []
    },
    {
      "metadata": {
        "trusted": true,
        "_uuid": "b711caf6659db289fad16ee995cd8f79bdca27b2"
      },
      "cell_type": "code",
      "source": "#predictions = model.predict(feats)\nrm = linear_model.Ridge(alpha=100)\nridge_model = rm.fit(X_train, y_train)\npredictions = ridge_model.predict(feats)",
      "execution_count": null,
      "outputs": []
    },
    {
      "metadata": {
        "trusted": true,
        "_uuid": "ffff3ad37d45a3519798202adc1f7107345ffe68"
      },
      "cell_type": "code",
      "source": "final_predictions = np.exp(predictions)",
      "execution_count": null,
      "outputs": []
    },
    {
      "metadata": {
        "trusted": true,
        "_uuid": "785866bdc20c966dc9111b6d8a72e53e4b1198d8"
      },
      "cell_type": "code",
      "source": "submission['SalePrice'] = final_predictions\nsubmission.head()",
      "execution_count": null,
      "outputs": []
    },
    {
      "metadata": {
        "trusted": true,
        "_uuid": "7f7c1bed939547046f219d8fa3b2efee6d3a4398"
      },
      "cell_type": "code",
      "source": "submission.to_csv('submission.csv', index=False)",
      "execution_count": null,
      "outputs": []
    },
    {
      "metadata": {
        "trusted": true,
        "_uuid": "0f58e28b48b68cef2976e8ef85e033b81654a3ea"
      },
      "cell_type": "code",
      "source": "",
      "execution_count": null,
      "outputs": []
    },
    {
      "metadata": {
        "trusted": true,
        "_uuid": "4381250bc84973b0947d0d2590f41d1bd3f8dd9f"
      },
      "cell_type": "code",
      "source": "",
      "execution_count": null,
      "outputs": []
    },
    {
      "metadata": {
        "trusted": true,
        "_uuid": "decaa63fb70342361b1af1dbb09aabb809647b94"
      },
      "cell_type": "code",
      "source": "",
      "execution_count": null,
      "outputs": []
    }
  ],
  "metadata": {
    "kernelspec": {
      "display_name": "Python 3",
      "language": "python",
      "name": "python3"
    },
    "language_info": {
      "name": "python",
      "version": "3.6.6",
      "mimetype": "text/x-python",
      "codemirror_mode": {
        "name": "ipython",
        "version": 3
      },
      "pygments_lexer": "ipython3",
      "nbconvert_exporter": "python",
      "file_extension": ".py"
    }
  },
  "nbformat": 4,
  "nbformat_minor": 1
}